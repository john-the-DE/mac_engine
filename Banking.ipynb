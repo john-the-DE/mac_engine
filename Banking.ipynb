{
 "cells": [
  {
   "cell_type": "code",
   "execution_count": 9,
   "metadata": {},
   "outputs": [],
   "source": [
    "import logging as lg\n",
    "\n",
    "class Account():\n",
    "    '''\n",
    "    Account is a class for banking \n",
    "    \n",
    "    '''\n",
    "    \n",
    "    def __init__(self, holder, balance=0):\n",
    "        \n",
    "        self.holder = holder\n",
    "        self.balance = balance\n",
    "    \n",
    "    def deposit(self, deposit_amount):\n",
    "        \n",
    "        self.balance += deposit_amount\n",
    "        print(f'You have deposited {deposit_amount}, your new balance is {self.balance}')\n",
    "    \n",
    "    def withdraw(self, withdraw_amount):\n",
    "        \n",
    "        if self.balance < withdraw_amount:\n",
    "            self.balance = self.balance\n",
    "            print(f'You do not have the available balance to withdraw ${withdraw_amount}')\n",
    "        else:\n",
    "            self.balance -= withdraw_amount\n",
    "    \n",
    "    def transfer(self,to_account, transfer_amount):\n",
    "        \n",
    "        if self.balance < transfer_amount:\n",
    "            self.balance = self.balance\n",
    "            print(f'You do not have the funds to transfer {transfer_amount} at this time')\n",
    "        else:\n",
    "            self.balance -= transfer_amount\n",
    "            print(f'Transfer confirmed: {transfer_amount} to {to_account}')\n",
    "    \n",
    "    \n",
    "    def __str__(self):\n",
    "        return f'''Account Holder: {holder}\n",
    "                   Account Balance: {self.balance}'''\n",
    "    "
   ]
  },
  {
   "cell_type": "code",
   "execution_count": 10,
   "metadata": {},
   "outputs": [],
   "source": [
    "a = Account('john', 1200)"
   ]
  },
  {
   "cell_type": "code",
   "execution_count": 11,
   "metadata": {},
   "outputs": [
    {
     "data": {
      "text/plain": [
       "1200"
      ]
     },
     "execution_count": 11,
     "metadata": {},
     "output_type": "execute_result"
    }
   ],
   "source": [
    "a.balance"
   ]
  },
  {
   "cell_type": "code",
   "execution_count": 12,
   "metadata": {},
   "outputs": [
    {
     "name": "stdout",
     "output_type": "stream",
     "text": [
      "You do not have the available balance to withdraw $1400\n"
     ]
    }
   ],
   "source": [
    "a.withdraw(1400)"
   ]
  },
  {
   "cell_type": "code",
   "execution_count": 13,
   "metadata": {},
   "outputs": [
    {
     "name": "stdout",
     "output_type": "stream",
     "text": [
      "You have deposited 1000, your new balance is 2200\n"
     ]
    }
   ],
   "source": [
    "a.deposit(1000)"
   ]
  },
  {
   "cell_type": "code",
   "execution_count": 14,
   "metadata": {},
   "outputs": [],
   "source": [
    "a.withdraw(2200)"
   ]
  },
  {
   "cell_type": "code",
   "execution_count": 15,
   "metadata": {},
   "outputs": [
    {
     "data": {
      "text/plain": [
       "0"
      ]
     },
     "execution_count": 15,
     "metadata": {},
     "output_type": "execute_result"
    }
   ],
   "source": [
    "a.balance"
   ]
  },
  {
   "cell_type": "code",
   "execution_count": 16,
   "metadata": {},
   "outputs": [
    {
     "name": "stdout",
     "output_type": "stream",
     "text": [
      "You do not have the funds to transfer 5 at this time\n"
     ]
    }
   ],
   "source": [
    "a.transfer(to_account=12345, transfer_amount=5)"
   ]
  },
  {
   "cell_type": "code",
   "execution_count": 17,
   "metadata": {},
   "outputs": [
    {
     "name": "stdout",
     "output_type": "stream",
     "text": [
      "You have deposited 80, your new balance is 80\n"
     ]
    }
   ],
   "source": [
    "a.deposit(80)"
   ]
  },
  {
   "cell_type": "code",
   "execution_count": 18,
   "metadata": {},
   "outputs": [
    {
     "name": "stdout",
     "output_type": "stream",
     "text": [
      "Transfer confirmed: 40 to 2993847\n"
     ]
    }
   ],
   "source": [
    "a.transfer(to_account=2993847, transfer_amount=40)"
   ]
  },
  {
   "cell_type": "code",
   "execution_count": null,
   "metadata": {},
   "outputs": [],
   "source": []
  }
 ],
 "metadata": {
  "kernelspec": {
   "display_name": "Python 3",
   "language": "python",
   "name": "python3"
  },
  "language_info": {
   "codemirror_mode": {
    "name": "ipython",
    "version": 3
   },
   "file_extension": ".py",
   "mimetype": "text/x-python",
   "name": "python",
   "nbconvert_exporter": "python",
   "pygments_lexer": "ipython3",
   "version": "3.8.5"
  }
 },
 "nbformat": 4,
 "nbformat_minor": 4
}
